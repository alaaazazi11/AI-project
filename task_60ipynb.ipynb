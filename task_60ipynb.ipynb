{
 "cells": [
  {
   "cell_type": "markdown",
   "metadata": {
    "id": "JA1-kmAVqoRz"
   },
   "source": [
    " How to simulate do..while loop in Python?\n",
    "\n",
    " while True:\n",
    "    # Do some processing...\n",
    "\n",
    "    if condition:\n",
    "        break"
   ]
  },
  {
   "cell_type": "markdown",
   "metadata": {
    "id": "3xOB_DSDgXvz"
   },
   "source": [
    "1-Write a Python program to calculate the length of a string using 2 ways"
   ]
  },
  {
   "cell_type": "code",
   "execution_count": null,
   "metadata": {
    "id": "c04umzZHgVsK"
   },
   "outputs": [],
   "source": [
    "string = input()\n",
    "print(len(string))\n",
    "\n",
    "count = 0\n",
    "for ch in string:\n",
    "    counter += 1\n",
    "print(count)"
   ]
  },
  {
   "cell_type": "markdown",
   "metadata": {
    "id": "3Zvg9d1mg-iy"
   },
   "source": [
    "2-Write a Python program to get a string made of the first 2 and last 2 characters of a given string. If the string length is less than 2, return the empty string instead (\"##Sample String : 'w3resource' Expected Result : 'w3ce' ##Sample String : 'w3' Expected Result : 'w3w3' ##Sample String : ' w' Expected Result : Empty String)"
   ]
  },
  {
   "cell_type": "code",
   "execution_count": null,
   "metadata": {
    "id": "IOkijEq-gVdI"
   },
   "outputs": [],
   "source": [
    "string =input(\" enter string: \")\n",
    "if len(string) < 2:\n",
    "    print()\n",
    "else:\n",
    "    print(string[0:2]+string[-2: ])"
   ]
  },
  {
   "cell_type": "markdown",
   "metadata": {
    "id": "OzDPjeENhLPI"
   },
   "source": [
    "3-Write a Python program to add 'ing' at the end of a given string (length should be at least 3). If the given string already ends with 'ing', add 'ly' instead. If the string length of the given string is less than 3, leave it unchanged. (Sample String : 'abc' Expected Result : 'abcing')"
   ]
  },
  {
   "cell_type": "code",
   "execution_count": 11,
   "metadata": {
    "colab": {
     "base_uri": "https://localhost:8080/"
    },
    "id": "OfsoFtIIgVZx",
    "outputId": "d0ce0878-341c-4ae5-d893-01b4d40bd6c1"
   },
   "outputs": [
    {
     "name": "stdout",
     "output_type": "stream",
     "text": [
      "jjih\n",
      "jjihing\n"
     ]
    }
   ],
   "source": [
    "string = input()\n",
    "if len(string) < 3:\n",
    "    print(string)\n",
    "elif string.endswith(\"ing\"):\n",
    "    print(string+\"ly\")\n",
    "else:\n",
    "    print(string+\"ing\")"
   ]
  },
  {
   "cell_type": "markdown",
   "metadata": {
    "id": "wuznNkQ3hPxx"
   },
   "source": [
    "4-Write a Python function that takes a list of words and return the longest word and the length of the longest one (Longest word: Exercises Length of the longest word: 9)"
   ]
  },
  {
   "cell_type": "code",
   "execution_count": 14,
   "metadata": {
    "colab": {
     "base_uri": "https://localhost:8080/"
    },
    "id": "pifj-RICgVXE",
    "outputId": "18604f98-29d8-463a-f95a-9ff67e10dd64"
   },
   "outputs": [
    {
     "name": "stdout",
     "output_type": "stream",
     "text": [
      "azazi   5\n"
     ]
    }
   ],
   "source": [
    "def max (words):\n",
    "\n",
    "    longest = \"\"\n",
    "    maxlen = 0\n",
    "\n",
    "    for word in words:\n",
    "        if len(word) > maxlen:\n",
    "            longest = word\n",
    "            maxlen = len(word)\n",
    "    return longest, maxlen\n",
    "mylist = [\"alaa\",\"azazi\"]\n",
    "maxword, maxlen = max(mylist)\n",
    "print(maxword ,\" \",maxlen)"
   ]
  },
  {
   "cell_type": "markdown",
   "metadata": {
    "id": "lJDz9o9liApf"
   },
   "source": [
    "5-Write a Python program to change a given string to a newly string where the first and last chars have been exchanged using 2 ways (Sample String:abca Expected Result:ebce)"
   ]
  },
  {
   "cell_type": "code",
   "execution_count": null,
   "metadata": {
    "id": "tZbvr07ygVUh"
   },
   "outputs": [],
   "source": [
    "string = input()\n",
    "print(string[-1] + string[1:-1] + string[0])"
   ]
  },
  {
   "cell_type": "markdown",
   "metadata": {
    "id": "H7Vdu6HXiHzA"
   },
   "source": [
    "6-Write a Python program to remove characters that have odd index values in a given string (Sample String:abca Expected Result:ac)"
   ]
  },
  {
   "cell_type": "code",
   "execution_count": null,
   "metadata": {
    "id": "nu0oQuyNgVRc"
   },
   "outputs": [],
   "source": [
    "string = \"AhmedHafez\"\n",
    "string[::2]"
   ]
  },
  {
   "cell_type": "markdown",
   "metadata": {
    "id": "zsF58UujiW25"
   },
   "source": [
    "7-Write a Python program to count the occurrences of each word in a given sentence (Sample String:amr and ahmed are frindes but amr is the tallest Expected Result:2)"
   ]
  },
  {
   "cell_type": "code",
   "execution_count": 17,
   "metadata": {
    "colab": {
     "base_uri": "https://localhost:8080/"
    },
    "id": "xa_D0QHpgVOi",
    "outputId": "f92c7556-8d68-4179-9670-46ed3b67b3b8"
   },
   "outputs": [
    {
     "name": "stdout",
     "output_type": "stream",
     "text": [
      "l 3\n",
      "am 2\n",
      "alaa 1\n",
      ", 1\n",
      "l 3\n",
      "am 2\n",
      "study 1\n",
      "computer 1\n",
      "scince 1\n"
     ]
    }
   ],
   "source": [
    "sentence = \"l am alaa , l am study computer scince\"\n",
    "words = sentence.split()\n",
    "for word in words:\n",
    "    print(word, sentence.count(word))\n"
   ]
  },
  {
   "cell_type": "markdown",
   "metadata": {
    "id": "cz75Ida_i-pp"
   },
   "source": [
    "8-Write a Python script that takes input from the user and displays that input back in upper and lower cases"
   ]
  },
  {
   "cell_type": "code",
   "execution_count": null,
   "metadata": {
    "id": "QRp8_CSBgVLu"
   },
   "outputs": [],
   "source": [
    "string = input()\n",
    "print(string.upper(), string.lower())"
   ]
  },
  {
   "cell_type": "markdown",
   "metadata": {
    "id": "9lQoBBCijDj1"
   },
   "source": [
    "9-Write a Python function to reverse a string if its length is a multiple of 4"
   ]
  },
  {
   "cell_type": "code",
   "execution_count": null,
   "metadata": {
    "id": "rO9wv2QdjHpa"
   },
   "outputs": [],
   "source": [
    "string = input()\n",
    "if len(string) % 4 == 0 :\n",
    "    print(string[::-1])"
   ]
  },
  {
   "cell_type": "markdown",
   "metadata": {
    "id": "QoiyWmikjK4h"
   },
   "source": [
    "10- Write a Python program to remove a newline in Python"
   ]
  },
  {
   "cell_type": "code",
   "execution_count": null,
   "metadata": {
    "id": "Z_bgyeeUjPNh"
   },
   "outputs": [],
   "source": [
    "string = \"my name is Ahmed \\n my salary is 2345678675645342\"\n",
    "string = string.replace(\"\\n\", \"\")\n",
    "print(string)"
   ]
  },
  {
   "cell_type": "markdown",
   "metadata": {
    "id": "vggU2u_FjV02"
   },
   "source": [
    "11-Write a Python program to check whether a string starts with specified characters"
   ]
  },
  {
   "cell_type": "code",
   "execution_count": 20,
   "metadata": {
    "colab": {
     "base_uri": "https://localhost:8080/"
    },
    "id": "-IYgS2bkjZSA",
    "outputId": "d95c5e8d-5c5f-49ec-ba24-0287fa2dddfc"
   },
   "outputs": [
    {
     "name": "stdout",
     "output_type": "stream",
     "text": [
      "yes\n"
     ]
    }
   ],
   "source": [
    "a= 'A'\n",
    "if \"Ahmed\".startswith(a):\n",
    "    print(\"yes\")"
   ]
  },
  {
   "cell_type": "markdown",
   "metadata": {
    "id": "6tWwDZ7xjnYQ"
   },
   "source": [
    "12- Write a Python program to add prefix text to all of the lines in a string"
   ]
  },
  {
   "cell_type": "code",
   "execution_count": 22,
   "metadata": {
    "colab": {
     "base_uri": "https://localhost:8080/"
    },
    "id": "99lp0tZUjoaJ",
    "outputId": "041a3b8b-b259-4bb2-f634-9fab3b1b8d81"
   },
   "outputs": [
    {
     "name": "stdout",
     "output_type": "stream",
     "text": [
      "hello alaa hello rana hello ali "
     ]
    }
   ],
   "source": [
    "string = \"alaa\\nrana\\nali\"\n",
    "mylist = string.split(\"\\n\")\n",
    "mylist\n",
    "for i in mylist:\n",
    "    print(\"hello \" + i , end = \" \")"
   ]
  },
  {
   "cell_type": "markdown",
   "metadata": {
    "id": "lkUrHqbxj4xB"
   },
   "source": [
    "13-Write a Python program to print the following numbers up to 2 decimal places"
   ]
  },
  {
   "cell_type": "code",
   "execution_count": null,
   "metadata": {
    "id": "d7To80fZj9f7"
   },
   "outputs": [],
   "source": [
    "round(2.33543567864, 2)"
   ]
  },
  {
   "cell_type": "markdown",
   "metadata": {
    "id": "YIYWLZlYkOg0"
   },
   "source": [
    "14-Write a Python program to print the following numbers up to 2 decimal places with a sign"
   ]
  },
  {
   "cell_type": "code",
   "execution_count": null,
   "metadata": {
    "id": "pruIH9p0kPSb"
   },
   "outputs": [],
   "source": [
    "number = float(input())\n",
    "if number > 0:\n",
    "    print(\"+\", round(number, 2))\n",
    "else:\n",
    "    print(round(number, 2))"
   ]
  },
  {
   "cell_type": "markdown",
   "metadata": {
    "id": "uh1AYM5pkVSl"
   },
   "source": [
    "15-Write a Python program to display a number with a comma separator"
   ]
  },
  {
   "cell_type": "code",
   "execution_count": 23,
   "metadata": {
    "colab": {
     "base_uri": "https://localhost:8080/"
    },
    "id": "SwbjwUn2kbpi",
    "outputId": "dbbfa865-2a19-443a-847a-0f28ae895f99"
   },
   "outputs": [
    {
     "name": "stdout",
     "output_type": "stream",
     "text": [
      "1, 2, 3, 4, 5, "
     ]
    }
   ],
   "source": [
    "number = 12345\n",
    "number = str(number)\n",
    "for i in number :\n",
    "    print(i+ \",\" , end = \" \")"
   ]
  },
  {
   "cell_type": "markdown",
   "metadata": {
    "id": "jL16FBDYkp71"
   },
   "source": [
    "16-Write a Python program to reverse a string using 2 ways"
   ]
  },
  {
   "cell_type": "code",
   "execution_count": 24,
   "metadata": {
    "colab": {
     "base_uri": "https://localhost:8080/",
     "height": 36
    },
    "id": "KX5owBbmgVJL",
    "outputId": "42eb80c2-3b84-4c94-9bd2-0c09e6878b04"
   },
   "outputs": [
    {
     "data": {
      "application/vnd.google.colaboratory.intrinsic+json": {
       "type": "string"
      },
      "text/plain": [
       "'demhA'"
      ]
     },
     "execution_count": 24,
     "metadata": {},
     "output_type": "execute_result"
    }
   ],
   "source": [
    "string = \"Ahmed\"\n",
    "string[::-1]\n",
    "#################33\n",
    "\n",
    "for i in range(len(string)-1, -1, -1):\n",
    "    print(string[i], end = \"\")\n"
   ]
  },
  {
   "cell_type": "markdown",
   "metadata": {
    "id": "hS4p5wb-k8f0"
   },
   "source": [
    "17-Write a Python program to count repeated characters in a string (hint:use dictionary)"
   ]
  },
  {
   "cell_type": "code",
   "execution_count": 26,
   "metadata": {
    "colab": {
     "base_uri": "https://localhost:8080/"
    },
    "id": "XXaGHoZ6gVGO",
    "outputId": "48f83d15-649a-4497-c414-63626e01c9d4"
   },
   "outputs": [
    {
     "data": {
      "text/plain": [
       "{'I': 1,\n",
       " 'n': 3,\n",
       " 's': 3,\n",
       " 't': 4,\n",
       " 'a': 2,\n",
       " ' ': 2,\n",
       " 'o': 3,\n",
       " 'f': 1,\n",
       " 'w': 1,\n",
       " 'r': 1,\n",
       " 'e': 1,\n",
       " 'l': 1,\n",
       " 'u': 1,\n",
       " 'i': 1}"
      ]
     },
     "execution_count": 26,
     "metadata": {},
     "output_type": "execute_result"
    }
   ],
   "source": [
    "string = \"Instant software solution\"\n",
    "d = dict()\n",
    "for i in string:\n",
    "    d[i] = 0\n",
    "\n",
    "\n",
    "for i in d:\n",
    "    d[i] = string.count(i)\n",
    "\n",
    "d"
   ]
  },
  {
   "cell_type": "markdown",
   "metadata": {
    "id": "uK3AORSllN9A"
   },
   "source": [
    "18-Write a Python program to find the first non-repeating character in a given string"
   ]
  },
  {
   "cell_type": "code",
   "execution_count": 27,
   "metadata": {
    "colab": {
     "base_uri": "https://localhost:8080/"
    },
    "id": "_mjik_7cgVDl",
    "outputId": "c9c4d9f3-c05b-4bc3-803f-a4160ad166c7"
   },
   "outputs": [
    {
     "name": "stdout",
     "output_type": "stream",
     "text": [
      "h\n"
     ]
    }
   ],
   "source": [
    "string = \"hello rana\"\n",
    "for i in string:\n",
    "    if string.count(i) == 1 :\n",
    "        print(i)\n",
    "        break"
   ]
  },
  {
   "cell_type": "markdown",
   "metadata": {
    "id": "RehU004glhYd"
   },
   "source": [
    "19-Write a Python program to remove spaces from a given string"
   ]
  },
  {
   "cell_type": "code",
   "execution_count": 28,
   "metadata": {
    "colab": {
     "base_uri": "https://localhost:8080/"
    },
    "id": "lMs2xEjhgVAu",
    "outputId": "4c670b80-d167-417c-e007-45c4e47660f3"
   },
   "outputs": [
    {
     "name": "stdout",
     "output_type": "stream",
     "text": [
      "alaaazazi\n"
     ]
    }
   ],
   "source": [
    "string=\"alaa azazi\"\n",
    "new=\"\"\n",
    "for char in string:\n",
    "  if char==\" \":\n",
    "    continue\n",
    "  new=new+char\n",
    "print(new)\n"
   ]
  },
  {
   "cell_type": "markdown",
   "metadata": {
    "id": "6xzUyP9pmKYO"
   },
   "source": [
    "20-Write a Python program to count the number of non-empty substrings of a given string"
   ]
  },
  {
   "cell_type": "code",
   "execution_count": null,
   "metadata": {
    "id": "xoQ8S4l7gU92"
   },
   "outputs": [],
   "source": []
  },
  {
   "cell_type": "markdown",
   "metadata": {
    "id": "bydppdNomVtR"
   },
   "source": [
    "21-write a Python program to swap first and last element of any list.\n",
    "\n"
   ]
  },
  {
   "cell_type": "code",
   "execution_count": null,
   "metadata": {
    "id": "5Q0PyjTNgU69"
   },
   "outputs": [],
   "source": [
    "l = [1,2,3,4]\n",
    "l[0] , l[-1] = l[-1], l[0]\n",
    "l"
   ]
  },
  {
   "cell_type": "markdown",
   "metadata": {
    "id": "4Zsbtni9mkCW"
   },
   "source": [
    "22-Given a list in Python and provided the positions of the elements, write a program to swap the two elements in the list. (Input : List = [23, 65, 19, 90], pos1 = 1, pos2 = 3 Output : [19, 65, 23, 90])"
   ]
  },
  {
   "cell_type": "code",
   "execution_count": 31,
   "metadata": {
    "colab": {
     "base_uri": "https://localhost:8080/"
    },
    "id": "qCJOh693gU3l",
    "outputId": "20d44314-cfdf-4a5d-c94a-48705a848dc0"
   },
   "outputs": [
    {
     "data": {
      "text/plain": [
       "[1, 2, 7, 9, 9, 5]"
      ]
     },
     "execution_count": 31,
     "metadata": {},
     "output_type": "execute_result"
    }
   ],
   "source": [
    "mylist = [1,2,5,9,9,7]\n",
    "pos1 = 2\n",
    "pos2 = 5\n",
    "mylist[pos1], mylist[pos2] = mylist[pos2] , mylist[pos1]\n",
    "l"
   ]
  },
  {
   "cell_type": "markdown",
   "metadata": {
    "id": "OAztLstSm4l1"
   },
   "source": [
    "23- search for the all ways to know the length of the list"
   ]
  },
  {
   "cell_type": "code",
   "execution_count": null,
   "metadata": {
    "id": "2dNKMHt-gUzF"
   },
   "outputs": [],
   "source": [
    "#Method 1: Naïve\n",
    "\n",
    "my_list = [0,1,2,3,4]\n",
    "counter = 0\n",
    "for element in my_list:\n",
    "  counter += 1\n",
    "print(counter)"
   ]
  },
  {
   "cell_type": "code",
   "execution_count": null,
   "metadata": {
    "id": "O-4RIKL8gUrb"
   },
   "outputs": [],
   "source": [
    "#Method 2: len()\n",
    "my_list = [0,1,2,3,4]\n",
    "print(len(my_list))"
   ]
  },
  {
   "cell_type": "code",
   "execution_count": null,
   "metadata": {
    "id": "JktbhAecgUlF"
   },
   "outputs": [],
   "source": [
    "# Method 3: length_hint()\n",
    "from operator import length_hint\n",
    "my_list = [0,1,2,3,4]\n",
    "print(length_hint(my_list))"
   ]
  },
  {
   "cell_type": "markdown",
   "metadata": {
    "id": "K8NH9giFnlEH"
   },
   "source": [
    "24-write a Python code to find the Maximum number of list of numbers."
   ]
  },
  {
   "cell_type": "code",
   "execution_count": null,
   "metadata": {
    "id": "_8stUB0vgUDi"
   },
   "outputs": [],
   "source": [
    "l = [ 1,2,3,4,4,5,6,7,8]\n",
    "print(max(l))"
   ]
  },
  {
   "cell_type": "markdown",
   "metadata": {
    "id": "3deXt2HpoNGj"
   },
   "source": [
    "25-write a Python code to find the Minimum number of list of numbers."
   ]
  },
  {
   "cell_type": "code",
   "execution_count": 39,
   "metadata": {
    "colab": {
     "base_uri": "https://localhost:8080/"
    },
    "id": "ig8dhhJYgT3l",
    "outputId": "2d04c961-126c-4781-98ae-b91c937fdf5f"
   },
   "outputs": [
    {
     "name": "stdout",
     "output_type": "stream",
     "text": [
      "1\n"
     ]
    }
   ],
   "source": [
    "mylist = [ 1,2,3,4,4,5,6,7,8]\n",
    "print(min(mylist))"
   ]
  },
  {
   "cell_type": "markdown",
   "metadata": {
    "id": "Kum1_ieMoX9F"
   },
   "source": [
    "26-search for if an elem is existing in list"
   ]
  },
  {
   "cell_type": "code",
   "execution_count": 41,
   "metadata": {
    "colab": {
     "base_uri": "https://localhost:8080/"
    },
    "id": "VPAGSxI3gTrs",
    "outputId": "7ef025a2-8353-4189-ad18-b97b30b89c10"
   },
   "outputs": [
    {
     "name": "stdout",
     "output_type": "stream",
     "text": [
      "no\n",
      "enter element: 2\n"
     ]
    }
   ],
   "source": [
    "l = [3,4,5,6,7,8]\n",
    "if 9 in l:\n",
    "    print(\"yes\")\n",
    "else:\n",
    "    print(\"no\")\n",
    "\n"
   ]
  },
  {
   "cell_type": "markdown",
   "metadata": {
    "id": "6G-w3CUppMj9"
   },
   "source": [
    "27- clear python list using different ways"
   ]
  },
  {
   "cell_type": "code",
   "execution_count": null,
   "metadata": {
    "id": "ZUAFOAjigSx2"
   },
   "outputs": [],
   "source": [
    "l = [ 2,3,4,5,6]\n",
    "l.clear()\n",
    "#####\n",
    "l = [ ]\n"
   ]
  },
  {
   "cell_type": "markdown",
   "metadata": {
    "id": "u-JcE8O-pZN9"
   },
   "source": [
    "28-remove duplicated elements from a list"
   ]
  },
  {
   "cell_type": "code",
   "execution_count": 42,
   "metadata": {
    "colab": {
     "base_uri": "https://localhost:8080/"
    },
    "id": "JXouhPu_pcPR",
    "outputId": "8eb41fdb-bf20-43e4-b824-cf8d1feaeb62"
   },
   "outputs": [
    {
     "name": "stdout",
     "output_type": "stream",
     "text": [
      "enter size: 4\n",
      "enter list:a\n",
      "enter list:a\n",
      "enter list:z\n",
      "enter list:c\n",
      "['a', 'z', 'c']\n"
     ]
    }
   ],
   "source": [
    "def remove_duplicates(lis):\n",
    "\n",
    "    unique_set = set(lis)\n",
    "\n",
    "    unique_list = list(unique_set)\n",
    "    return unique_list\n",
    "\n",
    "\n",
    "size=int(input(\"enter size: \"))\n",
    "mylist=[]\n",
    "for i in range(size):\n",
    "  mylist.append(input(\"enter list:\"))\n",
    "\n",
    "mylist=remove_duplicates(mylist)\n",
    "print(mylist)\n"
   ]
  },
  {
   "cell_type": "markdown",
   "metadata": {
    "id": "7N8dmyOagujY"
   },
   "source": [
    "29-Given list values and keys list, convert these values to key value pairs in form of list of dictionaries. (Input : test_list = [“Gfg”, 3, “is”, 8], key_list = [“name”, “id”] Output : [{‘name’: ‘Gfg’, ‘id’: 3}, {‘name’: ‘is’, ‘id’: 8}])"
   ]
  },
  {
   "cell_type": "code",
   "execution_count": null,
   "metadata": {
    "id": "U7_XsHr7gvQs"
   },
   "outputs": [],
   "source": []
  },
  {
   "cell_type": "markdown",
   "metadata": {
    "id": "7LzEBHjZEbtT"
   },
   "source": [
    "30-write a python program to count unique values inside a list using different ways"
   ]
  },
  {
   "cell_type": "code",
   "execution_count": 17,
   "metadata": {
    "colab": {
     "base_uri": "https://localhost:8080/"
    },
    "id": "7HUXyMjGIL_s",
    "outputId": "0ca47272-d0bd-4bd7-f4d6-21912c4fd781"
   },
   "outputs": [
    {
     "name": "stdout",
     "output_type": "stream",
     "text": [
      "enter size: 2\n",
      "enter list:a\n",
      "enter list:a\n",
      "0\n"
     ]
    }
   ],
   "source": [
    "\n",
    "#######################\n",
    "size=int(input(\"enter size: \"))\n",
    "mylist=[]\n",
    "for i in range(size):\n",
    "  mylist.append(input(\"enter list:\"))\n",
    "\n",
    "unique=0\n",
    "for word in mylist:\n",
    "  if mylist.count(word)==1:\n",
    "    unique +=1\n",
    "print(unique)\n",
    "\n",
    "\n"
   ]
  },
  {
   "cell_type": "markdown",
   "metadata": {
    "id": "TtuB6wnnMxX3"
   },
   "source": [
    "31-write a python program Extract all elements with Frequency greater than K (Input : test_list = [4, 6, 4, 3, 3, 4, 3, 4, 3, 8], K = 3 Output : [4, 3] )"
   ]
  },
  {
   "cell_type": "code",
   "execution_count": 28,
   "metadata": {
    "colab": {
     "base_uri": "https://localhost:8080/"
    },
    "id": "bZbLktcMLuoU",
    "outputId": "71888284-6420-4536-8293-993e70568974"
   },
   "outputs": [
    {
     "name": "stdout",
     "output_type": "stream",
     "text": [
      "enter size: 10\n",
      "enter k: 3\n",
      "enter list:4\n",
      "enter list:6\n",
      "enter list:4\n",
      "enter list:3\n",
      "enter list:3\n",
      "enter list:4\n",
      "enter list:3\n",
      "enter list:4\n",
      "enter list:3\n",
      "enter list:8\n",
      "['4', '3']\n"
     ]
    }
   ],
   "source": [
    "\n",
    "size=int(input(\"enter size: \"))\n",
    "k=int(input(\"enter k: \"))\n",
    "mylist=[]\n",
    "for i in range(size):\n",
    "  mylist.append(input(\"enter list:\"))\n",
    "unique_list=[]\n",
    "for i in mylist:\n",
    "  if mylist.count(i)>k:\n",
    "    unique_list.append(i)\n",
    "  mylist.remove(i)\n",
    "print(unique_list)\n",
    "\n"
   ]
  },
  {
   "cell_type": "markdown",
   "metadata": {
    "id": "M4FFkkDMOQ_T"
   },
   "source": [
    "write a python program to find the Strongest Neighbour (Input: 1 2 2 3 4 5 Output: 2 2 3 4 5)"
   ]
  },
  {
   "cell_type": "markdown",
   "metadata": {
    "id": "LpRrjZzBCq4_"
   },
   "source": []
  },
  {
   "cell_type": "code",
   "execution_count": 33,
   "metadata": {
    "colab": {
     "base_uri": "https://localhost:8080/"
    },
    "id": "U3AdxUsIOV8O",
    "outputId": "af451e42-1dba-4e6d-d6f3-42184d3243b9"
   },
   "outputs": [
    {
     "name": "stdout",
     "output_type": "stream",
     "text": [
      "enter size: 4\n",
      "enter list:5\n",
      "enter list:8\n",
      "enter list:1\n",
      "enter list:9\n",
      "8 8 9 "
     ]
    }
   ],
   "source": [
    "8\n",
    "##########\n",
    "size=int(input(\"enter size: \"))\n",
    "\n",
    "mylist=[]\n",
    "for i in range(size):\n",
    "  mylist.append(input(\"enter list:\"))\n",
    "lis=[]\n",
    "for i in range(len(mylist)-1):\n",
    "  lis.append(max(mylist[i],mylist[i+1]))\n",
    "  if mylist[i]==len(mylist)-1:\n",
    "    break\n",
    "for ele in lis:\n",
    "  print(ele, end=\" \")\n",
    "\n"
   ]
  },
  {
   "cell_type": "markdown",
   "metadata": {
    "id": "6lJI5LY8VfrF"
   },
   "source": [
    "33-write a Python Program to print all Possible Combinations from the three Digits (Input: [1, 2, 3] Output: 1 2 3 ## 1 3 2 ## 2 1 3 ## 2 3 1 ## 3 1 2 ## 3 2 1)"
   ]
  },
  {
   "cell_type": "code",
   "execution_count": 39,
   "metadata": {
    "colab": {
     "base_uri": "https://localhost:8080/",
     "height": 280
    },
    "id": "YmAYjPHbVmz3",
    "outputId": "88dd897a-4dfe-4557-b910-1abef35008ab"
   },
   "outputs": [
    {
     "name": "stdout",
     "output_type": "stream",
     "text": [
      "enter size: 2\n",
      "enter list:8\n",
      "enter list:5\n",
      "['8', '5']\n"
     ]
    },
    {
     "ename": "IndexError",
     "evalue": "list index out of range",
     "output_type": "error",
     "traceback": [
      "\u001b[0;31m---------------------------------------------------------------------------\u001b[0m",
      "\u001b[0;31mIndexError\u001b[0m                                Traceback (most recent call last)",
      "\u001b[0;32m<ipython-input-39-64b1a57eea73>\u001b[0m in \u001b[0;36m<cell line: 7>\u001b[0;34m()\u001b[0m\n\u001b[1;32m      8\u001b[0m   \u001b[0;32mfor\u001b[0m \u001b[0mk\u001b[0m \u001b[0;32min\u001b[0m \u001b[0mrange\u001b[0m\u001b[0;34m(\u001b[0m\u001b[0msize\u001b[0m\u001b[0;34m)\u001b[0m\u001b[0;34m:\u001b[0m\u001b[0;34m\u001b[0m\u001b[0;34m\u001b[0m\u001b[0m\n\u001b[1;32m      9\u001b[0m     \u001b[0mtemp\u001b[0m\u001b[0;34m=\u001b[0m\u001b[0mmylist\u001b[0m\u001b[0;34m[\u001b[0m\u001b[0mi\u001b[0m\u001b[0;34m]\u001b[0m\u001b[0;34m\u001b[0m\u001b[0;34m\u001b[0m\u001b[0m\n\u001b[0;32m---> 10\u001b[0;31m     \u001b[0mmylist\u001b[0m\u001b[0;34m[\u001b[0m\u001b[0mi\u001b[0m\u001b[0;34m]\u001b[0m\u001b[0;34m==\u001b[0m\u001b[0mmylist\u001b[0m\u001b[0;34m[\u001b[0m\u001b[0mk\u001b[0m\u001b[0;34m+\u001b[0m\u001b[0;36m1\u001b[0m\u001b[0;34m]\u001b[0m\u001b[0;34m\u001b[0m\u001b[0;34m\u001b[0m\u001b[0m\n\u001b[0m\u001b[1;32m     11\u001b[0m     \u001b[0mmylist\u001b[0m\u001b[0;34m[\u001b[0m\u001b[0mk\u001b[0m\u001b[0;34m+\u001b[0m\u001b[0;36m1\u001b[0m\u001b[0;34m]\u001b[0m\u001b[0;34m==\u001b[0m\u001b[0mtemp\u001b[0m\u001b[0;34m\u001b[0m\u001b[0;34m\u001b[0m\u001b[0m\n\u001b[1;32m     12\u001b[0m     \u001b[0mprint\u001b[0m\u001b[0;34m(\u001b[0m\u001b[0mmylist\u001b[0m\u001b[0;34m)\u001b[0m\u001b[0;34m\u001b[0m\u001b[0;34m\u001b[0m\u001b[0m\n",
      "\u001b[0;31mIndexError\u001b[0m: list index out of range"
     ]
    }
   ],
   "source": [
    "################################### I couldn't answer\n",
    "size=int(input(\"enter size: \"))\n",
    "\n",
    "mylist=[]\n",
    "temp=0\n",
    "for i in range(size):\n",
    "  mylist.append(input(\"enter list:\"))\n"
   ]
  },
  {
   "cell_type": "markdown",
   "metadata": {
    "id": "ehDdpFY4YCpK"
   },
   "source": [
    "34-write a Python program to find all the Combinations in the list with the given condition (Input: test_list = [1,2,3] Output: [1], [1, 2], [1, 2, 3], [1, 3] [2], [2, 3], [3])"
   ]
  },
  {
   "cell_type": "code",
   "execution_count": null,
   "metadata": {
    "id": "vsUDhfbwYXPG"
   },
   "outputs": [],
   "source": []
  },
  {
   "cell_type": "markdown",
   "metadata": {
    "id": "l50dw2cfYYR8"
   },
   "source": [
    "35-write a Python program to get all unique combinations of two Lists (List_1 = [\"a\",\"b\"] List_2 = [1,2] Unique_combination = [[('a',1),('b',2)],[('a',2),('b',1)]] )"
   ]
  },
  {
   "cell_type": "code",
   "execution_count": null,
   "metadata": {
    "id": "ByXqGJEDYcIE"
   },
   "outputs": [],
   "source": []
  },
  {
   "cell_type": "markdown",
   "metadata": {
    "id": "JARX33zOYlhA"
   },
   "source": [
    "36-Remove all the occurrences of an element from a list in Python (Input : 1 1 2 3 4 5 1 2 1\n",
    "\n",
    "**Output : 2 3 4 5 2)"
   ]
  },
  {
   "cell_type": "code",
   "execution_count": 42,
   "metadata": {
    "colab": {
     "base_uri": "https://localhost:8080/"
    },
    "id": "uAUIpKYEYpJJ",
    "outputId": "07b3130c-eaf4-4a49-eb8a-8b460ed89d85"
   },
   "outputs": [
    {
     "name": "stdout",
     "output_type": "stream",
     "text": [
      "enter size: 4\n",
      "enter list:4\n",
      "enter list:4\n",
      "enter list:5\n",
      "enter list:8\n",
      "4 5 8 "
     ]
    }
   ],
   "source": [
    "size=int(input(\"enter size: \"))\n",
    "'''\n",
    "mylist=[]\n",
    "temp=0\n",
    "for i in range(size):\n",
    "  mylist.append(input(\"enter list:\"))\n",
    "for i in range(size):\n",
    "  if mylist[i]==mylist[i+1]:\n",
    "    mylist.remove(mylist[i])\n",
    "  if i==len(mylist)-2:\n",
    "    break\n",
    "for ele in mylist:\n",
    "  print(ele , end=\" \")\n",
    "  '''"
   ]
  },
  {
   "cell_type": "markdown",
   "metadata": {
    "id": "AWUcspgpaqF4"
   },
   "source": [
    "37-write a python program to Replace index elements with elements in Other List (The original list 1 is : [‘Gfg’, ‘is’, ‘best’] The original list 2 is : [0, 1, 2, 1, 0, 0, 0, 2, 1, 1, 2, 0] The lists after index elements replacements is : [‘Gfg’, ‘is’, ‘best’, ‘is’, ‘Gfg’, ‘Gfg’, ‘Gfg’, ‘best’, ‘is’, ‘is’, ‘best’, ‘Gfg’])"
   ]
  },
  {
   "cell_type": "markdown",
   "metadata": {
    "id": "iI9hELDDat3_"
   },
   "source": []
  },
  {
   "cell_type": "code",
   "execution_count": 45,
   "metadata": {
    "colab": {
     "base_uri": "https://localhost:8080/",
     "height": 297
    },
    "id": "3LaKRzmYbAFf",
    "outputId": "3c07777d-1661-4fcd-d375-7e1cf0f88b9a"
   },
   "outputs": [
    {
     "name": "stdout",
     "output_type": "stream",
     "text": [
      "enter size of elemnet: 2\n",
      "enter element:a\n",
      "enter element:d\n",
      "enter size of index : 3\n",
      "enter index:1\n"
     ]
    },
    {
     "ename": "ValueError",
     "evalue": "1 is not in list",
     "output_type": "error",
     "traceback": [
      "\u001b[0;31m---------------------------------------------------------------------------\u001b[0m",
      "\u001b[0;31mValueError\u001b[0m                                Traceback (most recent call last)",
      "\u001b[0;32m<ipython-input-45-05115b832e1e>\u001b[0m in \u001b[0;36m<cell line: 12>\u001b[0;34m()\u001b[0m\n\u001b[1;32m     12\u001b[0m \u001b[0;32mfor\u001b[0m \u001b[0mi\u001b[0m \u001b[0;32min\u001b[0m \u001b[0mrange\u001b[0m\u001b[0;34m(\u001b[0m\u001b[0msize2\u001b[0m\u001b[0;34m)\u001b[0m\u001b[0;34m:\u001b[0m\u001b[0;34m\u001b[0m\u001b[0;34m\u001b[0m\u001b[0m\n\u001b[1;32m     13\u001b[0m   \u001b[0mindex_list\u001b[0m\u001b[0;34m.\u001b[0m\u001b[0mappend\u001b[0m\u001b[0;34m(\u001b[0m\u001b[0mint\u001b[0m\u001b[0;34m(\u001b[0m\u001b[0minput\u001b[0m\u001b[0;34m(\u001b[0m\u001b[0;34m\"enter index:\"\u001b[0m\u001b[0;34m)\u001b[0m\u001b[0;34m)\u001b[0m\u001b[0;34m)\u001b[0m\u001b[0;34m\u001b[0m\u001b[0;34m\u001b[0m\u001b[0m\n\u001b[0;32m---> 14\u001b[0;31m   \u001b[0mres\u001b[0m\u001b[0;34m.\u001b[0m\u001b[0mappend\u001b[0m\u001b[0;34m(\u001b[0m\u001b[0melement_list\u001b[0m\u001b[0;34m.\u001b[0m\u001b[0mindex\u001b[0m\u001b[0;34m(\u001b[0m\u001b[0mindex_list\u001b[0m\u001b[0;34m[\u001b[0m\u001b[0mi\u001b[0m\u001b[0;34m]\u001b[0m\u001b[0;34m)\u001b[0m\u001b[0;34m)\u001b[0m\u001b[0;34m\u001b[0m\u001b[0;34m\u001b[0m\u001b[0m\n\u001b[0m\u001b[1;32m     15\u001b[0m \u001b[0mprint\u001b[0m\u001b[0;34m(\u001b[0m\u001b[0mres\u001b[0m\u001b[0;34m)\u001b[0m\u001b[0;34m\u001b[0m\u001b[0;34m\u001b[0m\u001b[0m\n\u001b[1;32m     16\u001b[0m \u001b[0;34m\u001b[0m\u001b[0m\n",
      "\u001b[0;31mValueError\u001b[0m: 1 is not in list"
     ]
    }
   ],
   "source": [
    "size=int(input(\"enter size of elemnet: \"))\n",
    "\n",
    "element_list=[]\n",
    "\n",
    "for i in range(size):\n",
    "  element_list.append(input(\"enter element:\"))\n",
    "\n",
    "size2=int(input(\"enter size of index : \"))\n",
    "\n",
    "index_list=[]\n",
    "res=[]\n",
    "for i in range(size2):\n",
    "  index_list.append(int(input(\"enter index:\")))\n",
    "  res.append(element_list.index(index_list[i]))\n",
    "print(res)\n",
    "\n",
    "\n",
    "\n",
    "###\n",
    "\n",
    "\n",
    "\n",
    "'''\n",
    "for i in range(size2):\n",
    "    index_val = int(input(\"Enter index: \"))\n",
    "    if index_val in element_list:\n",
    "        res.append(element_list.index(index_val))\n",
    "    else:\n",
    "        res.append(-1)  # Append -1 if the element is not found in element_list\n",
    "\n",
    "'''\n",
    "\n",
    "\n"
   ]
  },
  {
   "cell_type": "markdown",
   "metadata": {
    "id": "zVPGKP7Wt08S"
   },
   "source": [
    "38- write python program to Retain records with N occurrences of K(Input : test_list = [(4, 5, 5, 4), (5, 4, 3)], K = 5, N = 2 Output : [(4, 5, 5, 4)] Input : test_list = [(4, 5, 5, 4), (5, 4, 3)], K = 5, N = 3 Output : [] )"
   ]
  },
  {
   "cell_type": "code",
   "execution_count": null,
   "metadata": {
    "id": "1FiQDJ7ot5XQ"
   },
   "outputs": [],
   "source": [
    "\n",
    "\n"
   ]
  },
  {
   "cell_type": "markdown",
   "metadata": {
    "id": "Twu2-dngv-8W"
   },
   "source": [
    "39-write a Python Program to Sort the list according to the column using lambda array = [[1, 3, 3], [2, 1, 2], [3, 2, 1]] Output : Sorted array specific to column 0, [[1, 3, 3], [2, 1, 2], [3, 2, 1]] Sorted array specific to column 1, [[2, 1, 2], [3, 2, 1], [1, 3, 3]] Sorted array specific to column 2, [[3, 2, 1], [2, 1, 2], [1, 3, 3]]"
   ]
  },
  {
   "cell_type": "code",
   "execution_count": null,
   "metadata": {
    "id": "2RI-3fNiwKEB"
   },
   "outputs": [],
   "source": []
  },
  {
   "cell_type": "markdown",
   "metadata": {
    "id": "0gExMFhPwzrY"
   },
   "source": [
    "40- write a program to Sort Python Dictionaries by Key or Value\n",
    "Input:\n",
    "{'ravi': 10, 'rajnish': 9, 'sanjeev': 15, 'yash': 2, 'suraj': 32}\n",
    "\n",
    "Output:\n",
    "{'rajnish': 9, 'ravi': 10, 'sanjeev': 15, 'suraj': 32, 'yash': 2}"
   ]
  },
  {
   "cell_type": "code",
   "execution_count": null,
   "metadata": {
    "id": "vyn-Kk1Ow0s6"
   },
   "outputs": [],
   "source": []
  },
  {
   "cell_type": "markdown",
   "metadata": {
    "id": "J2KrhmMZxssT"
   },
   "source": [
    "41-write python program to Remove keys with Values Greater than K ( Including mixed values ) nput : test_dict = {‘Gfg’ : 3, ‘is’ : 7, ‘best’ : 10, ‘for’ : 6, ‘geeks’ : ‘CS’}, K = 7 Output : {‘Gfg’ : 3, ‘for’ : 6, ‘geeks’ : ‘CS’}"
   ]
  },
  {
   "cell_type": "code",
   "execution_count": null,
   "metadata": {
    "id": "q60zPBfUxw-Y"
   },
   "outputs": [],
   "source": []
  },
  {
   "cell_type": "markdown",
   "metadata": {
    "id": "KJxL3_fQ97of"
   },
   "source": [
    "42-Write a Python program to concatenate the following dictionaries to create a new one\n",
    "\n",
    "Sample Dictionary : dic1={1:10, 2:20} dic2={3:30, 4:40} dic3={5:50,6:60} Expected Result : {1: 10, 2: 20, 3: 30, 4: 40, 5: 50, 6: 60}"
   ]
  },
  {
   "cell_type": "code",
   "execution_count": null,
   "metadata": {
    "id": "VlO-Sjro987U"
   },
   "outputs": [],
   "source": []
  },
  {
   "cell_type": "markdown",
   "metadata": {
    "id": "KDCkK8Ca99ZG"
   },
   "source": [
    "43-Write a Python program to iterate over dictionaries using for loops"
   ]
  },
  {
   "cell_type": "code",
   "execution_count": null,
   "metadata": {
    "id": "LCTBYMcf-APM"
   },
   "outputs": [],
   "source": []
  },
  {
   "cell_type": "markdown",
   "metadata": {
    "id": "hI6p305E-AqM"
   },
   "source": [
    "44- Write a Python script to merge two Python dictionaries"
   ]
  },
  {
   "cell_type": "code",
   "execution_count": null,
   "metadata": {
    "id": "oBh0i5ME-F7P"
   },
   "outputs": [],
   "source": []
  },
  {
   "cell_type": "markdown",
   "metadata": {
    "id": "NB4J4Ieb-FeO"
   },
   "source": [
    "45-Write a Python program to get the maximum and minimum values of a dictionary values"
   ]
  },
  {
   "cell_type": "code",
   "execution_count": null,
   "metadata": {
    "id": "ohbbKTrh-Kx0"
   },
   "outputs": [],
   "source": []
  },
  {
   "cell_type": "markdown",
   "metadata": {
    "id": "lJwpH8yy-LT1"
   },
   "source": [
    "46- Write a Python program to drop empty items from a given dictionary. Original Dictionary: {'c1': 'Red', 'c2': 'Green', 'c3': None} New Dictionary after dropping empty items: {'c1': 'Red', 'c2': 'Green'}"
   ]
  },
  {
   "cell_type": "code",
   "execution_count": null,
   "metadata": {
    "id": "QDQI1QV4-OAq"
   },
   "outputs": [],
   "source": []
  },
  {
   "cell_type": "markdown",
   "metadata": {
    "id": "eIceuu18-OwH"
   },
   "source": [
    "47-Write a Python program to create a tuple of numbers and print one item"
   ]
  },
  {
   "cell_type": "code",
   "execution_count": 9,
   "metadata": {
    "colab": {
     "base_uri": "https://localhost:8080/"
    },
    "id": "aZyX2HnB-R6u",
    "outputId": "c9f818df-3b5d-412c-d8c5-649641109cac"
   },
   "outputs": [
    {
     "name": "stdout",
     "output_type": "stream",
     "text": [
      "enter size: 4\n",
      "Enter element: 5\n",
      "Enter element: 5\n",
      "Enter element: 7\n",
      "Enter element: 8\n",
      "5\n",
      "5\n",
      "7\n",
      "8\n"
     ]
    }
   ],
   "source": [
    "tup=()\n",
    "size=int(input(\"enter size: \"))\n",
    "for i in range(size):\n",
    "\n",
    "  element = input(\"Enter element: \")\n",
    "  tup += (element,)\n",
    "for i in tup:\n",
    "  print(i)\n",
    "\n"
   ]
  },
  {
   "cell_type": "markdown",
   "metadata": {
    "id": "TOy8AwTN-SeJ"
   },
   "source": [
    "48-Write a Python program to unpack a tuple into several variables"
   ]
  },
  {
   "cell_type": "code",
   "execution_count": 1,
   "metadata": {
    "colab": {
     "base_uri": "https://localhost:8080/"
    },
    "id": "lJIR4g29-WOL",
    "outputId": "a7db7321-0cbf-468c-8308-b69d163bce88"
   },
   "outputs": [
    {
     "name": "stdout",
     "output_type": "stream",
     "text": [
      "1\n",
      "2\n",
      "3\n"
     ]
    }
   ],
   "source": [
    "mytuple = (1, 2, 3)\n",
    "\n",
    "\n",
    "a, b, c = mytuple\n",
    "\n",
    "\n",
    "print( a)\n",
    "print( b)\n",
    "print( c)"
   ]
  },
  {
   "cell_type": "markdown",
   "metadata": {
    "id": "HBvu1Spk-W0O"
   },
   "source": [
    "49-Write a Python program to add an item to a tuple"
   ]
  },
  {
   "cell_type": "code",
   "execution_count": 2,
   "metadata": {
    "colab": {
     "base_uri": "https://localhost:8080/"
    },
    "id": "vGSBLO6k-Zm_",
    "outputId": "1cafa00a-92c0-40d6-d6af-a38c3bedac78"
   },
   "outputs": [
    {
     "name": "stdout",
     "output_type": "stream",
     "text": [
      "New tuple: (1, 2, 3, 4)\n"
     ]
    }
   ],
   "source": [
    "original_tuple = (1, 2, 3)\n",
    "\n",
    "new_item = 4\n",
    "new_tuple = original_tuple + (new_item,)\n",
    "print(\"New tuple:\", new_tuple)"
   ]
  },
  {
   "cell_type": "markdown",
   "metadata": {
    "id": "qhKaegCl-Z8u"
   },
   "source": [
    "50-Write a Python program to convert a tuple to a string"
   ]
  },
  {
   "cell_type": "code",
   "execution_count": 3,
   "metadata": {
    "colab": {
     "base_uri": "https://localhost:8080/"
    },
    "id": "Aakw3xBM-dIU",
    "outputId": "9a5ef1ed-6055-4fd6-b2cb-6990d0f664d4"
   },
   "outputs": [
    {
     "name": "stdout",
     "output_type": "stream",
     "text": [
      "Hello World !\n"
     ]
    }
   ],
   "source": [
    "my_tuple = ('Hello', 'World', '!')\n",
    "\n",
    "\n",
    "result_string = ' '.join(my_tuple)\n",
    "\n",
    "\n",
    "print( result_string)"
   ]
  },
  {
   "cell_type": "markdown",
   "metadata": {
    "id": "57_r30ho-dlz"
   },
   "source": [
    "51-Write a Python program to convert a list to a tuple"
   ]
  },
  {
   "cell_type": "code",
   "execution_count": null,
   "metadata": {
    "id": "p8hEU7Hc-irt"
   },
   "outputs": [],
   "source": [
    "mylist = [1, 2, 3, 4, 5]\n",
    "\n",
    "\n",
    "my_uple = tuple(mylist)\n",
    "\n",
    "print( mytuple)"
   ]
  },
  {
   "cell_type": "markdown",
   "metadata": {
    "id": "bSPsj31_-jV5"
   },
   "source": [
    "52-Write a Python program to reverse a tuple"
   ]
  },
  {
   "cell_type": "code",
   "execution_count": null,
   "metadata": {
    "id": "fYwoNU1E-l-q"
   },
   "outputs": [],
   "source": [
    "\n",
    "mytuple = (1, 2, 3, 4, 5)\n",
    "\n",
    "reversedtuple = mytuple[::-1]\n",
    "\n",
    "print( reversedtuple)\n"
   ]
  },
  {
   "cell_type": "markdown",
   "metadata": {
    "id": "gkNIRS34-pC7"
   },
   "source": [
    "53-Write a Python program to replace the last value of tuples in a list. Sample list: [(10, 20, 40), (40, 50, 60), (70, 80, 90)] Expected Output: [(10, 20, 100), (40, 50, 100), (70, 80, 100)]"
   ]
  },
  {
   "cell_type": "code",
   "execution_count": null,
   "metadata": {
    "id": "p-Tcag2K-qCF"
   },
   "outputs": [],
   "source": [
    "\n",
    "sample_list = [(10, 20, 40), (40, 50, 60), (70, 80, 90)]\n",
    "\n",
    "\n",
    "newvalue = 100\n",
    "\n",
    "\n",
    "result_list = [(tup[:-1] + (newvalue,)) for tup in sample_list]\n",
    "\n",
    "\n",
    "print( result_list)\n"
   ]
  },
  {
   "cell_type": "markdown",
   "metadata": {
    "id": "7XjwgtpC-qZ5"
   },
   "source": [
    "54-Write a Python program to convert a given string list to a tuple Original string: python 3.0 <class 'str'> Convert the said string to a tuple: ('p', 'y', 't', 'h', 'o', 'n', '3', '.', '0')"
   ]
  },
  {
   "cell_type": "code",
   "execution_count": 5,
   "metadata": {
    "colab": {
     "base_uri": "https://localhost:8080/"
    },
    "id": "XLwMG1M8-vBz",
    "outputId": "3e4c122c-5e7b-48c0-81c6-bf700d2920c8"
   },
   "outputs": [
    {
     "name": "stdout",
     "output_type": "stream",
     "text": [
      "('a', 'l', 'a', 'a', ' ', 'a', 'z', 'a', 'z', 'i', ' ')\n"
     ]
    }
   ],
   "source": [
    "\n",
    "string = \"alaa azazi \"\n",
    "\n",
    "\n",
    "converted_tuple = tuple(string)\n",
    "\n",
    "print( converted_tuple)\n"
   ]
  },
  {
   "cell_type": "markdown",
   "metadata": {
    "id": "307FuH1U-yWg"
   },
   "source": [
    "55-Write a Python program to calculate the average value of the numbers in a given tuple of tuples"
   ]
  },
  {
   "cell_type": "code",
   "execution_count": 6,
   "metadata": {
    "colab": {
     "base_uri": "https://localhost:8080/"
    },
    "id": "4QLTk4xL-zi5",
    "outputId": "d01656dd-21a4-443a-f723-d64ce373dc14"
   },
   "outputs": [
    {
     "name": "stdout",
     "output_type": "stream",
     "text": [
      "5.0\n"
     ]
    }
   ],
   "source": [
    "def averagetuples(tuples):\n",
    "\n",
    "    numbers = [num for tup in tuples for num in tup]\n",
    "\n",
    "\n",
    "    average = sum(numbers) / len(numbers)\n",
    "\n",
    "    return average\n",
    "\n",
    "\n",
    "tuple_of_tuples = ((1, 2, 3), (4, 5, 6), (7, 8, 9))\n",
    "average_value = averagetuples(tuple_of_tuples)\n",
    "print( average_value)\n"
   ]
  },
  {
   "cell_type": "markdown",
   "metadata": {
    "id": "Litp9aXMdzbr"
   },
   "source": [
    "56-Write a Python program to add member(s) to a set.\n",
    "\n"
   ]
  },
  {
   "cell_type": "code",
   "execution_count": 8,
   "metadata": {
    "colab": {
     "base_uri": "https://localhost:8080/"
    },
    "id": "0HQWeYV2d28U",
    "outputId": "821f17d8-9aee-48d1-d612-7f418c703d63"
   },
   "outputs": [
    {
     "name": "stdout",
     "output_type": "stream",
     "text": [
      "{1, 2, 3, 4}\n"
     ]
    }
   ],
   "source": [
    "\n",
    "my_set = {1, 2, 3}\n",
    "\n",
    "\n",
    "my_set.add(4)\n",
    "\n",
    "\n",
    "print( my_set)\n",
    "\n",
    "\n",
    "\n",
    "\n"
   ]
  },
  {
   "cell_type": "markdown",
   "metadata": {
    "id": "b1YUy6qhd3hn"
   },
   "source": [
    "57-Write a Python program to remove an item from a set if it is present in the set."
   ]
  },
  {
   "cell_type": "code",
   "execution_count": 9,
   "metadata": {
    "colab": {
     "base_uri": "https://localhost:8080/"
    },
    "id": "11vwcpd2d8tR",
    "outputId": "ab4cad87-1633-46d7-bb97-ca03587907ce"
   },
   "outputs": [
    {
     "name": "stdout",
     "output_type": "stream",
     "text": [
      "{1, 2, 4, 5}\n"
     ]
    }
   ],
   "source": [
    "\n",
    "my_set = {1, 2, 3, 4, 5}\n",
    "\n",
    "\n",
    "item_to_remove = 3\n",
    "if item_to_remove in my_set:\n",
    "    my_set.remove(item_to_remove)\n",
    "\n",
    "else:\n",
    "    print(\"Item\", item_to_remove, \"it is not  in the set\")\n",
    "\n",
    "print( my_set)\n"
   ]
  },
  {
   "cell_type": "markdown",
   "metadata": {
    "id": "RBPc6RFFd_7T"
   },
   "source": [
    "58-Write a Python program to create an intersection,union,difference and symmetric difference of sets"
   ]
  },
  {
   "cell_type": "code",
   "execution_count": 10,
   "metadata": {
    "colab": {
     "base_uri": "https://localhost:8080/"
    },
    "id": "VkBwAIHFeEQu",
    "outputId": "2ce57292-a69a-4f0e-f098-9989e70a05c7"
   },
   "outputs": [
    {
     "name": "stdout",
     "output_type": "stream",
     "text": [
      "{4, 5}\n",
      "{1, 2, 3, 4, 5, 6, 7, 8}\n",
      "{1, 2, 3}\n",
      "{1, 2, 3, 6, 7, 8}\n"
     ]
    }
   ],
   "source": [
    "\n",
    "set1 = {1, 2, 3, 4, 5}\n",
    "set2 = {4, 5, 6, 7, 8}\n",
    "\n",
    "\n",
    "intersection = set1.intersection(set2)\n",
    "print( intersection)\n",
    "\n",
    "\n",
    "union = set1.union(set2)\n",
    "print( union)\n",
    "\n",
    "\n",
    "difference = set1.difference(set2)\n",
    "print( difference)\n",
    "\n",
    "\n",
    "symmetric_difference = set1.symmetric_difference(set2)\n",
    "print( symmetric_difference)\n"
   ]
  },
  {
   "cell_type": "markdown",
   "metadata": {
    "id": "UjYe_Gq5eFTL"
   },
   "source": [
    "59-Write a Python program to find the maximum and minimum values in a set"
   ]
  },
  {
   "cell_type": "code",
   "execution_count": null,
   "metadata": {
    "id": "VcmeaIYPeIl3"
   },
   "outputs": [],
   "source": [
    "\n",
    "my_set = {10, 20, 30, 40, 50}\n",
    "\n",
    "\n",
    "max_value = max(my_set)\n",
    "print( max_value)\n",
    "\n",
    "\n",
    "min_value = min(my_set)\n",
    "print( min_value)\n"
   ]
  },
  {
   "cell_type": "markdown",
   "metadata": {
    "id": "fo-TLBNWeJLx"
   },
   "source": [
    "60- Write a Python program that finds all pairs of elements in a list whose sum is equal to a given value."
   ]
  },
  {
   "cell_type": "code",
   "execution_count": null,
   "metadata": {
    "id": "p4rhlqZsfcrd"
   },
   "outputs": [],
   "source": [
    "\n"
   ]
  },
  {
   "cell_type": "markdown",
   "metadata": {
    "id": "eQK5k-ueeNHM"
   },
   "source": []
  }
 ],
 "metadata": {
  "colab": {
   "provenance": []
  },
  "kernelspec": {
   "display_name": "Python 3 (ipykernel)",
   "language": "python",
   "name": "python3"
  },
  "language_info": {
   "codemirror_mode": {
    "name": "ipython",
    "version": 3
   },
   "file_extension": ".py",
   "mimetype": "text/x-python",
   "name": "python",
   "nbconvert_exporter": "python",
   "pygments_lexer": "ipython3",
   "version": "3.11.7"
  }
 },
 "nbformat": 4,
 "nbformat_minor": 4
}
